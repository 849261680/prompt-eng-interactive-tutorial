{
 "cells": [
  {
   "cell_type": "markdown",
   "metadata": {},
   "source": [
    "# 附录 10.4：搜索和检索\n",
    "\n",
    "您知道可以使用 Claude **为您搜索维基百科**吗？Claude 可以查找和检索文章，然后您还可以使用 Claude 来总结与综合它们，并基于检索内容编写新的文本等。不仅仅是维基百科！您还可以搜索自己的文档，无论是存储为纯文本还是嵌入在向量数据库中。\n",
    "\n",
    "查看我们的[RAG cookbook 示例](https://github.com/anthropics/anthropic-cookbook/blob/main/third_party/Wikipedia/wikipedia-search-cookbook.ipynb)，了解如何通过从向量数据库、维基百科、互联网等检索到的数据来补充 Claude 的知识并提升其响应的准确性与相关性。在那里，您还可以了解如何使用[嵌入](https://docs.anthropic.com/claude/docs/embeddings)和向量数据库工具。\n",
    "\n",
    "如果您对使用 Claude 的高级 RAG 架构感兴趣，请查看我们的[Claude 3 RAG 架构技术演示幻灯片](https://docs.google.com/presentation/d/1zxkSI7lLUBrZycA-_znwqu8DDyVhHLkQGScvzaZrUns/edit#slide=id.g2c736259dac_63_782)。"
   ]
  }
 ],
 "metadata": {
  "language_info": {
   "name": "python"
  }
 },
 "nbformat": 4,
 "nbformat_minor": 2
}
