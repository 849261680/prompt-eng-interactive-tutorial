{
 "cells": [
  {
   "cell_type": "markdown",
   "metadata": {},
   "source": [
    "# 附录 10.2：工具使用\n",
    "\n",
    "- [课程](#lesson)\n",
    "- [练习](#exercises)\n",
    "- [示例练习场](#example-playground)\n",
    "\n",
    "## 设置\n",
    "\n",
    "运行以下设置单元格来加载您的API密钥并建立`get_completion`辅助函数。"
   ]
  },
  {
   "cell_type": "code",
   "execution_count": null,
   "metadata": {},
   "outputs": [],
   "source": [
    "%pip install anthropic --quiet\n",
    "\n",
    "# Import the hints module from the utils package\n",
    "import os\n",
    "import sys\n",
    "module_path = \"..\"\n",
    "sys.path.append(os.path.abspath(module_path))\n",
    "from utils import hints\n",
    "\n",
    "# Import python's built-in regular expression library\n",
    "import re\n",
    "from anthropic import AnthropicBedrock\n",
    "\n",
    "# Override the MODEL_NAME variable in the IPython store to use Sonnet instead of the Haiku model\n",
    "MODEL_NAME='anthropic.claude-3-sonnet-20240229-v1:0'\n",
    "%store -r AWS_REGION\n",
    "\n",
    "client = AnthropicBedrock(aws_region=AWS_REGION)\n",
    "\n",
    "# Rewrittten to call Claude 3 Sonnet, which is generally better at tool use, and include stop_sequences\n",
    "def get_completion(messages, system_prompt=\"\", prefill=\"\",stop_sequences=None):\n",
    "    message = client.messages.create(\n",
    "        model=MODEL_NAME,\n",
    "        max_tokens=2000,\n",
    "        temperature=0.0,\n",
    "        messages=messages,\n",
    "        system=system_prompt,\n",
    "        stop_sequences=stop_sequences\n",
    "    )\n",
    "    return message.content[0].text"
   ]
  },
  {
   "cell_type": "markdown",
   "metadata": {},
   "source": [
    "---\n",
    "\n",
    "## 课程\n",
    "\n",
    "虽然一开始在概念上看起来有些复杂，但“工具使用”（即函数调用）其实很简单！你已经具备实现工具使用所需的全部技能，本质上就是“替换 + 链式提示”的组合。\n",
    "\n",
    "在之前的“替换”练习中，我们把文本替换到提示中。到了“工具使用”，我们把“工具/函数的运行结果”替换进提示。Claude 并不能真正去调用或访问外部工具与函数。因此我们的做法是让 Claude：\n",
    "1. 输出它想调用的工具名称及参数\n",
    "2. 在工具执行期间暂停进一步的答案生成\n",
    "3. 将工具结果附加回会话后，再次向 Claude 发起提示"
   ]
  },
  {
   "cell_type": "markdown",
   "metadata": {},
   "source": [
    "函数调用之所以有用，是因为它扩展了 Claude 的能力，使其可以处理更复杂的多步骤任务。\n",
    "你可以提供给 Claude 的函数示例包括：\n",
    "- 计算器\n",
    "- 字数统计\n",
    "- SQL 数据库查询与数据检索\n",
    "- 天气 API"
   ]
  },
  {
   "cell_type": "markdown",
   "metadata": {},
   "source": [
    "要让 Claude 使用工具，你需要组合以下两部分：\n",
    "\n",
    "1. 一个系统提示（system prompt），用于解释“工具使用”的概念，并提供它可用工具的详细清单\n",
    "2. 一段控制逻辑，用来编排与执行 Claude 的工具调用请求"
   ]
  },
  {
   "cell_type": "markdown",
   "metadata": {},
   "source": [
    "### 工具使用路线图\n",
    "\n",
    "*本课讲授的是当前的工具使用格式；后续我们会更新与改进工具使用功能，包括：*\n",
    "* *更精简的函数定义与调用格式*\n",
    "* *更健壮的错误处理与边界情况覆盖*\n",
    "* *与其他 API 的更紧密集成*\n",
    "* *更可靠的执行与性能，尤其适用于复杂的工具使用任务*"
   ]
  },
  {
   "cell_type": "markdown",
   "metadata": {},
   "source": [
    "### 示例\n",
    "\n",
    "要在 Claude 中启用“工具使用”，我们需要先写一个系统提示。在这个专门用于工具使用的系统提示中，我们会告诉 Claude：\n",
    "* 工具使用的基本前提与含义\n",
    "* 如何调用并使用提供给它的工具\n",
    "* 在当前场景中它可用工具的详细列表\n",
    "\n",
    "以下是系统提示的第一部分，用来向 Claude 解释工具使用。这一部分具有通用性，适用于所有关于工具使用的提示场景。我们提供给 Claude 的工具调用结构（`<function_calls> [...] </function_calls>`）是 Claude 专门接受过训练的格式，建议你沿用该结构。"
   ]
  },
  {
   "cell_type": "code",
   "execution_count": null,
   "metadata": {},
   "outputs": [],
   "source": [
    "system_prompt_tools_general_explanation = \"\"\"You have access to a set of functions you can use to answer the user's question. This includes access to a\n",
    "sandboxed computing environment. You do NOT currently have the ability to inspect files or interact with external\n",
    "resources, except by invoking the below functions.\n",
    "\n",
    "You can invoke one or more functions by writing a \"<function_calls>\" block like the following as part of your\n",
    "reply to the user:\n",
    "<function_calls>\n",
    "<invoke name=\"$FUNCTION_NAME\">\n",
    "<antml:parameter name=\"$PARAMETER_NAME\">$PARAMETER_VALUE</parameter>\n",
    "...\n",
    "</invoke>\n",
    "<nvoke name=\"$FUNCTION_NAME2\">\n",
    "...\n",
    "</invoke>\n",
    "</function_calls>\n",
    "\n",
    "String and scalar parameters should be specified as is, while lists and objects should use JSON format. Note that\n",
    "spaces for string values are not stripped. The output is not expected to be valid XML and is parsed with regular\n",
    "expressions.\n",
    "\n",
    "The output and/or any errors will appear in a subsequent \"<function_results>\" block, and remain there as part of\n",
    "your reply to the user.\n",
    "You may then continue composing the rest of your reply to the user, respond to any errors, or make further function\n",
    "calls as appropriate.\n",
    "If a \"<function_results>\" does NOT appear after your function calls, then they are likely malformatted and not\n",
    "recognized as a call.\"\"\""
   ]
  },
  {
   "cell_type": "markdown",
   "metadata": {},
   "source": [
    "以下是系统提示的第二部分：定义在本场景中 Claude 可以使用的具体工具。在这个示例中，我们将给 Claude 一个“计算器”工具，它接受三个参数：两个操作数和一个运算符。\n",
    "\n",
    "随后我们把系统提示的两部分拼接起来。"
   ]
  },
  {
   "cell_type": "code",
   "execution_count": null,
   "metadata": {},
   "outputs": [],
   "source": [
    "system_prompt_tools_specific_tools = \"\"\"Here are the functions available in JSONSchema format:\n",
    "<tools>\n",
    "<tool_description>\n",
    "<tool_name>calculator</tool_name>\n",
    "<description>\n",
    "Calculator function for doing basic arithmetic.\n",
    "Supports addition, subtraction, multiplication\n",
    "</description>\n",
    "<parameters>\n",
    "<parameter>\n",
    "<name>first_operand</name>\n",
    "<type>int</type>\n",
    "<description>First operand (before the operator)</description>\n",
    "</parameter>\n",
    "<parameter>\n",
    "<name>second_operand</name>\n",
    "<type>int</type>\n",
    "<description>Second operand (after the operator)</description>\n",
    "</parameter>\n",
    "<parameter>\n",
    "<name>operator</name>\n",
    "<type>str</type>\n",
    "<description>The operation to perform. Must be either +, -, *, or /</description>\n",
    "</parameter>\n",
    "</parameters>\n",
    "</tool_description>\n",
    "</tools>\n",
    "\"\"\"\n",
    "\n",
    "system_prompt = system_prompt_tools_general_explanation + system_prompt_tools_specific_tools"
   ]
  },
  {
   "cell_type": "markdown",
   "metadata": {},
   "source": [
    "现在我们可以给 Claude 一个需要使用 `calculator` 工具的问题。我们会在 `stop_sequences` 中使用 `</function_calls>`，以检测 Claude 何时调用函数并在该处停止生成。"
   ]
  },
  {
   "cell_type": "code",
   "execution_count": null,
   "metadata": {},
   "outputs": [],
   "source": [
    "multiplication_message = {\n",
    "    \"role\": \"user\",\n",
    "    \"content\": \"Multiply 1,984,135 by 9,343,116\"\n",
    "}\n",
    "\n",
    "stop_sequences = [\"</function_calls>\"]\n",
    "\n",
    "# Get Claude's response\n",
    "function_calling_response = get_completion([multiplication_message], system_prompt=system_prompt, stop_sequences=stop_sequences)\n",
    "print(function_calling_response)"
   ]
  },
  {
   "cell_type": "markdown",
   "metadata": {},
   "source": [
    "接下来我们从 Claude 的函数调用输出里提取参数，并代表 Claude 实际执行该函数。\n",
    "\n",
    "先定义函数的具体代码。"
   ]
  },
  {
   "cell_type": "code",
   "execution_count": null,
   "metadata": {},
   "outputs": [],
   "source": [
    "def do_pairwise_arithmetic(num1, num2, operation):\n",
    "    if operation == '+':\n",
    "        return num1 + num2\n",
    "    elif operation == \"-\":\n",
    "        return num1 - num2\n",
    "    elif operation == \"*\":\n",
    "        return num1 * num2\n",
    "    elif operation == \"/\":\n",
    "        return num1 / num2\n",
    "    else:\n",
    "        return \"Error: Operation not supported.\""
   ]
  },
  {
   "cell_type": "markdown",
   "metadata": {},
   "source": [
    "然后从 Claude 的函数调用响应中提取参数。若三个参数齐全，则运行计算器工具。"
   ]
  },
  {
   "cell_type": "code",
   "execution_count": null,
   "metadata": {},
   "outputs": [],
   "source": [
    "def find_parameter(message, parameter_name):\n",
    "    parameter_start_string = f\"name=\\\"{parameter_name}\\\">\"\n",
    "    start = message.index(parameter_start_string)\n",
    "    if start == -1:\n",
    "        return None\n",
    "    if start > 0:\n",
    "        start = start + len(parameter_start_string)\n",
    "        end = start\n",
    "        while message[end] != \"<\":\n",
    "            end += 1\n",
    "    return message[start:end]\n",
    "\n",
    "first_operand = find_parameter(function_calling_response, \"first_operand\")\n",
    "second_operand = find_parameter(function_calling_response, \"second_operand\")\n",
    "operator = find_parameter(function_calling_response, \"operator\")\n",
    "\n",
    "if first_operand and second_operand and operator:\n",
    "    result = do_pairwise_arithmetic(int(first_operand), int(second_operand), operator)\n",
    "    print(\"---------------- RESULT ----------------\")\n",
    "    print(f\"{result:,}\")"
   ]
  },
  {
   "cell_type": "markdown",
   "metadata": {},
   "source": [
    "拿到结果后，我们需要把它格式化成 Claude 能够识别的“工具结果”结构，以便 Claude 理解该结果对应哪个工具。Claude 已经针对以下固定格式做过训练：\n",
    "```\n",
    "<function_results>\n",
    "<result>\n",
    "<tool_name>{TOOL_NAME}</tool_name>\n",
    "<stdout>\n",
    "{TOOL_RESULT}\n",
    "</stdout>\n",
    "</result>\n",
    "</function_results>\n",
    "```\n",
    "\n",
    "运行下面的单元，将上面的工具结果格式化为该结构。"
   ]
  },
  {
   "cell_type": "code",
   "execution_count": null,
   "metadata": {},
   "outputs": [],
   "source": [
    "def construct_successful_function_run_injection_prompt(invoke_results):\n",
    "    constructed_prompt = (\n",
    "        \"<function_results>\\n\"\n",
    "        + '\\n'.join(\n",
    "            f\"<result>\\n<tool_name>{res['tool_name']}</tool_name>\\n<stdout>\\n{res['tool_result']}\\n</stdout>\\n</result>\"\n",
    "            for res in invoke_results\n",
    "        ) + \"\\n</function_results>\"\n",
    "    )\n",
    "\n",
    "    return constructed_prompt\n",
    "\n",
    "formatted_results = [{\n",
    "    'tool_name': 'do_pairwise_arithmetic',\n",
    "    'tool_result': result\n",
    "}]\n",
    "function_results = construct_successful_function_run_injection_prompt(formatted_results)\n",
    "print(function_results)"
   ]
  },
  {
   "cell_type": "markdown",
   "metadata": {},
   "source": [
    "最后一步，只需把该结果附加回同一会话消息链中，再发给 Claude 即可！"
   ]
  },
  {
   "cell_type": "code",
   "execution_count": null,
   "metadata": {},
   "outputs": [],
   "source": [
    "full_first_response = function_calling_response + \"</function_calls>\"\n",
    "\n",
    "# Construct the full conversation\n",
    "messages = [multiplication_message,\n",
    "{\n",
    "    \"role\": \"assistant\",\n",
    "    \"content\": full_first_response\n",
    "},\n",
    "{\n",
    "    \"role\": \"user\",\n",
    "    \"content\": function_results\n",
    "}]\n",
    "   \n",
    "# Print Claude's response\n",
    "final_response = get_completion(messages, system_prompt=system_prompt, stop_sequences=stop_sequences)\n",
    "print(\"------------- FINAL RESULT -------------\")\n",
    "print(final_response)"
   ]
  },
  {
   "cell_type": "markdown",
   "metadata": {},
   "source": [
    "恭喜你完成了一条端到端的工具使用链！\n",
    "\n",
    "那么，如果我们给 Claude 一个根本不需要使用该工具的问题，会发生什么呢？"
   ]
  },
  {
   "cell_type": "code",
   "execution_count": null,
   "metadata": {},
   "outputs": [],
   "source": [
    "non_multiplication_message = {\n",
    "    \"role\": \"user\",\n",
    "    \"content\": \"Tell me the capital of France.\"\n",
    "}\n",
    "\n",
    "stop_sequences = [\"</function_calls>\"]\n",
    "\n",
    "# Get Claude's response\n",
    "function_calling_response = get_completion([non_multiplication_message], system_prompt=system_prompt, stop_sequences=stop_sequences)\n",
    "print(function_calling_response)"
   ]
  },
  {
   "cell_type": "markdown",
   "metadata": {},
   "source": [
    "成功！如你所见，在不需要时 Claude 会避免调用函数。\n",
    "\n",
    "如果你想在不更改上述任何内容的情况下试验课程提示，请滚动到本课笔记本底部访问[**示例练习场**](#example-playground)。"
   ]
  },
  {
   "cell_type": "markdown",
   "metadata": {},
   "source": [
    "---\n",
    "\n",
    "## 练习\n",
    "- [练习 10.2.1 - SQL](#exercise-1021---SQL)"
   ]
  },
  {
   "cell_type": "markdown",
   "metadata": {},
   "source": [
    "### 练习 10.2.1 - SQL\n",
    "在本练习中，你将为“查询与写入世界上最小的‘数据库’”编写一个工具使用提示。下面是已经初始化的“数据库”（其实就是一个字典）。"
   ]
  },
  {
   "cell_type": "code",
   "execution_count": null,
   "metadata": {},
   "outputs": [],
   "source": [
    "db = {\n",
    "    \"users\": [\n",
    "        {\"id\": 1, \"name\": \"Alice\", \"email\": \"alice@example.com\"},\n",
    "        {\"id\": 2, \"name\": \"Bob\", \"email\": \"bob@example.com\"},\n",
    "        {\"id\": 3, \"name\": \"Charlie\", \"email\": \"charlie@example.com\"}\n",
    "    ],\n",
    "    \"products\": [\n",
    "        {\"id\": 1, \"name\": \"Widget\", \"price\": 9.99},\n",
    "        {\"id\": 2, \"name\": \"Gadget\", \"price\": 14.99},\n",
    "        {\"id\": 3, \"name\": \"Doohickey\", \"price\": 19.99}\n",
    "    ]\n",
    "}"
   ]
  },
  {
   "cell_type": "markdown",
   "metadata": {},
   "source": [
    "下面是用于读写该“数据库”的函数代码。"
   ]
  },
  {
   "cell_type": "code",
   "execution_count": null,
   "metadata": {},
   "outputs": [],
   "source": [
    "def get_user(user_id):\n",
    "    for user in db[\"users\"]:\n",
    "        if user[\"id\"] == user_id:\n",
    "            return user\n",
    "    return None\n",
    "\n",
    "def get_product(product_id):\n",
    "    for product in db[\"products\"]:\n",
    "        if product[\"id\"] == product_id:\n",
    "            return product\n",
    "    return None\n",
    "\n",
    "def add_user(name, email):\n",
    "    user_id = len(db[\"users\"]) + 1\n",
    "    user = {\"id\": user_id, \"name\": name, \"email\": email}\n",
    "    db[\"users\"].append(user)\n",
    "    return user\n",
    "\n",
    "def add_product(name, price):\n",
    "    product_id = len(db[\"products\"]) + 1\n",
    "    product = {\"id\": product_id, \"name\": name, \"price\": price}\n",
    "    db[\"products\"].append(product)\n",
    "    return product"
   ]
  },
  {
   "cell_type": "markdown",
   "metadata": {},
   "source": [
    "要完成本练习，请先像上文的 `system_prompt_tools_specific_tools` 那样定义一个系统提示。务必包含每个工具的名称与描述，以及每个函数的各个参数的名称、类型与说明。我们在下面提供了一个起始脚手架。"
   ]
  },
  {
   "cell_type": "code",
   "execution_count": null,
   "metadata": {},
   "outputs": [],
   "source": [
    "system_prompt_tools_specific_tools_sql = \"\"\"\n",
    "\"\"\"\n",
    "\n",
    "system_prompt = system_prompt_tools_general_explanation + system_prompt_tools_specific_tools_sql"
   ]
  },
  {
   "cell_type": "markdown",
   "metadata": {},
   "source": [
    "准备好后，可以在下方示例上试运行你的工具定义系统提示。直接运行下面这个单元即可！"
   ]
  },
  {
   "cell_type": "code",
   "execution_count": null,
   "metadata": {},
   "outputs": [],
   "source": [
    "examples = [\n",
    "    \"Add a user to the database named Deborah.\",\n",
    "    \"Add a product to the database named Thingo\",\n",
    "    \"Tell me the name of User 2\",\n",
    "    \"Tell me the name of Product 3\"\n",
    "]\n",
    "\n",
    "for example in examples:\n",
    "    message = {\n",
    "        \"role\": \"user\",\n",
    "        \"content\": example\n",
    "    }\n",
    "\n",
    "    # Get & print Claude's response\n",
    "    function_calling_response = get_completion([message], system_prompt=system_prompt, stop_sequences=stop_sequences)\n",
    "    print(example, \"\\n----------\\n\\n\", function_calling_response, \"\\n*********\\n*********\\n*********\\n\\n\")"
   ]
  },
  {
   "cell_type": "markdown",
   "metadata": {},
   "source": [
    "如果你完成正确，函数调用消息应能正确调用 `add_user`、`add_product`、`get_user` 和 `get_product`。\n",
    "\n",
    "加分项：再新建一些代码单元，编写参数解析代码。随后用 Claude 给出的参数去调用函数，观察调用后“数据库”的状态变化。"
   ]
  },
  {
   "cell_type": "markdown",
   "metadata": {},
   "source": [
    "❓ 如果你想看到可能的解决方案，请运行下面的单元格！"
   ]
  },
  {
   "cell_type": "code",
   "execution_count": null,
   "metadata": {},
   "outputs": [],
   "source": [
    "print(hints.exercise_10_2_1_solution)"
   ]
  },
  {
   "cell_type": "markdown",
   "metadata": {},
   "source": [
    "### 恭喜！\n",
    "\n",
    "恭喜你学会了工具使用与函数调用！如果想进一步了解搜索与 RAG，请前往最后一节附录。"
   ]
  },
  {
   "cell_type": "markdown",
   "metadata": {},
   "source": [
    "---\n",
    "\n",
    "## 示例练习场\n",
    "\n",
    "这是一个区域，供你自由尝试本课展示的提示示例，并微调提示以观察它可能如何影响 Claude 的响应。"
   ]
  },
  {
   "cell_type": "code",
   "execution_count": null,
   "metadata": {},
   "outputs": [],
   "source": [
    "system_prompt_tools_general_explanation = \"\"\"You have access to a set of functions you can use to answer the user's question. This includes access to a\n",
    "sandboxed computing environment. You do NOT currently have the ability to inspect files or interact with external\n",
    "resources, except by invoking the below functions.\n",
    "\n",
    "You can invoke one or more functions by writing a \"<function_calls>\" block like the following as part of your\n",
    "reply to the user:\n",
    "<function_calls>\n",
    "<invoke name=\"$FUNCTION_NAME\">\n",
    "<antml:parameter name=\"$PARAMETER_NAME\">$PARAMETER_VALUE</parameter>\n",
    "...\n",
    "</invoke>\n",
    "<nvoke name=\"$FUNCTION_NAME2\">\n",
    "...\n",
    "</invoke>\n",
    "</function_calls>\n",
    "\n",
    "String and scalar parameters should be specified as is, while lists and objects should use JSON format. Note that\n",
    "spaces for string values are not stripped. The output is not expected to be valid XML and is parsed with regular\n",
    "expressions.\n",
    "\n",
    "The output and/or any errors will appear in a subsequent \"<function_results>\" block, and remain there as part of\n",
    "your reply to the user.\n",
    "You may then continue composing the rest of your reply to the user, respond to any errors, or make further function\n",
    "calls as appropriate.\n",
    "If a \"<function_results>\" does NOT appear after your function calls, then they are likely malformatted and not\n",
    "recognized as a call.\"\"\""
   ]
  },
  {
   "cell_type": "code",
   "execution_count": null,
   "metadata": {},
   "outputs": [],
   "source": [
    "system_prompt_tools_specific_tools = \"\"\"Here are the functions available in JSONSchema format:\n",
    "<tools>\n",
    "<tool_description>\n",
    "<tool_name>calculator</tool_name>\n",
    "<description>\n",
    "Calculator function for doing basic arithmetic.\n",
    "Supports addition, subtraction, multiplication\n",
    "</description>\n",
    "<parameters>\n",
    "<parameter>\n",
    "<name>first_operand</name>\n",
    "<type>int</type>\n",
    "<description>First operand (before the operator)</description>\n",
    "</parameter>\n",
    "<parameter>\n",
    "<name>second_operand</name>\n",
    "<type>int</type>\n",
    "<description>Second operand (after the operator)</description>\n",
    "</parameter>\n",
    "<parameter>\n",
    "<name>operator</name>\n",
    "<type>str</type>\n",
    "<description>The operation to perform. Must be either +, -, *, or /</description>\n",
    "</parameter>\n",
    "</parameters>\n",
    "</tool_description>\n",
    "</tools>\n",
    "\"\"\"\n",
    "\n",
    "system_prompt = system_prompt_tools_general_explanation + system_prompt_tools_specific_tools"
   ]
  },
  {
   "cell_type": "code",
   "execution_count": null,
   "metadata": {},
   "outputs": [],
   "source": [
    "multiplication_message = {\n",
    "    \"role\": \"user\",\n",
    "    \"content\": \"Multiply 1,984,135 by 9,343,116\"\n",
    "}\n",
    "\n",
    "stop_sequences = [\"</function_calls>\"]\n",
    "\n",
    "# Get Claude's response\n",
    "function_calling_response = get_completion([multiplication_message], system_prompt=system_prompt, stop_sequences=stop_sequences)\n",
    "print(function_calling_response)"
   ]
  },
  {
   "cell_type": "code",
   "execution_count": null,
   "metadata": {},
   "outputs": [],
   "source": [
    "def do_pairwise_arithmetic(num1, num2, operation):\n",
    "    if operation == '+':\n",
    "        return num1 + num2\n",
    "    elif operation == \"-\":\n",
    "        return num1 - num2\n",
    "    elif operation == \"*\":\n",
    "        return num1 * num2\n",
    "    elif operation == \"/\":\n",
    "        return num1 / num2\n",
    "    else:\n",
    "        return \"Error: Operation not supported.\""
   ]
  },
  {
   "cell_type": "code",
   "execution_count": null,
   "metadata": {},
   "outputs": [],
   "source": [
    "def find_parameter(message, parameter_name):\n",
    "    parameter_start_string = f\"name=\\\"{parameter_name}\\\">\"\n",
    "    start = message.index(parameter_start_string)\n",
    "    if start == -1:\n",
    "        return None\n",
    "    if start > 0:\n",
    "        start = start + len(parameter_start_string)\n",
    "        end = start\n",
    "        while message[end] != \"<\":\n",
    "            end += 1\n",
    "    return message[start:end]\n",
    "\n",
    "first_operand = find_parameter(function_calling_response, \"first_operand\")\n",
    "second_operand = find_parameter(function_calling_response, \"second_operand\")\n",
    "operator = find_parameter(function_calling_response, \"operator\")\n",
    "\n",
    "if first_operand and second_operand and operator:\n",
    "    result = do_pairwise_arithmetic(int(first_operand), int(second_operand), operator)\n",
    "    print(\"---------------- RESULT ----------------\")\n",
    "    print(f\"{result:,}\")"
   ]
  },
  {
   "cell_type": "code",
   "execution_count": null,
   "metadata": {},
   "outputs": [],
   "source": [
    "def construct_successful_function_run_injection_prompt(invoke_results):\n",
    "    constructed_prompt = (\n",
    "        \"<function_results>\\n\"\n",
    "        + '\\n'.join(\n",
    "            f\"<result>\\n<tool_name>{res['tool_name']}</tool_name>\\n<stdout>\\n{res['tool_result']}\\n</stdout>\\n</result>\"\n",
    "            for res in invoke_results\n",
    "        ) + \"\\n</function_results>\"\n",
    "    )\n",
    "\n",
    "    return constructed_prompt\n",
    "\n",
    "formatted_results = [{\n",
    "    'tool_name': 'do_pairwise_arithmetic',\n",
    "    'tool_result': result\n",
    "}]\n",
    "function_results = construct_successful_function_run_injection_prompt(formatted_results)\n",
    "print(function_results)"
   ]
  },
  {
   "cell_type": "code",
   "execution_count": null,
   "metadata": {},
   "outputs": [],
   "source": [
    "full_first_response = function_calling_response + \"</function_calls>\"\n",
    "\n",
    "# Construct the full conversation\n",
    "messages = [multiplication_message,\n",
    "{\n",
    "    \"role\": \"assistant\",\n",
    "    \"content\": full_first_response\n",
    "},\n",
    "{\n",
    "    \"role\": \"user\",\n",
    "    \"content\": function_results\n",
    "}]\n",
    "   \n",
    "# Print Claude's response\n",
    "final_response = get_completion(messages, system_prompt=system_prompt, stop_sequences=stop_sequences)\n",
    "print(\"------------- FINAL RESULT -------------\")\n",
    "print(final_response)"
   ]
  },
  {
   "cell_type": "code",
   "execution_count": null,
   "metadata": {},
   "outputs": [],
   "source": [
    "non_multiplication_message = {\n",
    "    \"role\": \"user\",\n",
    "    \"content\": \"Tell me the capital of France.\"\n",
    "}\n",
    "\n",
    "stop_sequences = [\"</function_calls>\"]\n",
    "\n",
    "# Get Claude's response\n",
    "function_calling_response = get_completion([non_multiplication_message], system_prompt=system_prompt, stop_sequences=stop_sequences)\n",
    "print(function_calling_response)"
   ]
  }
 ],
 "metadata": {
  "kernelspec": {
   "display_name": "Python 3",
   "language": "python",
   "name": "python3"
  },
  "language_info": {
   "codemirror_mode": {
    "name": "ipython",
    "version": 3
   },
   "file_extension": ".py",
   "mimetype": "text/x-python",
   "name": "python",
   "nbconvert_exporter": "python",
   "pygments_lexer": "ipython3",
   "version": "3.11.5"
  }
 },
 "nbformat": 4,
 "nbformat_minor": 2
}
