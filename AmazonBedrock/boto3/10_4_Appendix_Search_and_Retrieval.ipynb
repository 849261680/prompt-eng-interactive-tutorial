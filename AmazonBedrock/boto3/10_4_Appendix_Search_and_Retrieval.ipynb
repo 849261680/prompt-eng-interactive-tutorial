{
 "cells": [
  {
   "cell_type": "markdown",
   "metadata": {},
   "source": [
    "# 附录 10.4：搜索与检索\n",
    "\n",
    "你知道可以让 Claude **替你搜索维基百科**吗？Claude 能够查找并检索文章；此后你还可以让 Claude 对其进行总结与综合、基于检索内容撰写新的文本等等。不仅仅是维基百科！你也可以搜索你自己的文档，无论它们是以纯文本形式存储，还是以向量形式存入向量数据库。\n",
    "\n",
    "参见我们的[RAG cookbook 示例](https://github.com/anthropics/anthropic-cookbook/blob/main/third_party/Wikipedia/wikipedia-search-cookbook.ipynb)，了解如何利用从向量数据库、维基百科、互联网等检索到的数据来补充 Claude 的知识，并提升其回答的准确性与相关性。在那里，你也可以了解如何使用部分[嵌入](https://docs.anthropic.com/claude/docs/embeddings)与向量数据库工具。\n",
    "\n",
    "如果你对使用 Claude 的高级 RAG 架构感兴趣，请查看我们的[Claude 3 关于 RAG 架构的技术演示幻灯片](https://docs.google.com/presentation/d/1zxkSI7lLUBrZycA-_znwqu8DDyVhHLkQGScvzaZrUns/edit#slide=id.g2c736259dac_63_782)。"
   ]
  }
 ],
 "metadata": {
  "language_info": {
   "name": "python"
  }
 },
 "nbformat": 4,
 "nbformat_minor": 2
}
